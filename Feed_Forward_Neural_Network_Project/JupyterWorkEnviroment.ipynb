{
 "cells": [
  {
   "cell_type": "code",
   "execution_count": null,
   "metadata": {},
   "outputs": [],
   "source": [
    "import numpy as np"
   ]
  },
  {
   "cell_type": "code",
   "execution_count": 3,
   "metadata": {},
   "outputs": [],
   "source": [
    "\n",
    "class layer:\n",
    "    def __init__(self, n_inputs, n_neurons) -> None:\n",
    "        self.weights = 0.1 * np.random.randn(n_inputs,n_neurons)\n",
    "        self.bias = 0\n",
    "    \n",
    "    def Forward(self, inputs, activation):\n",
    "        if activation == \"ReLU\":\n",
    "            self.Output = self.Activation_ReLU(np.dot(inputs,self.weights) + self.bias)\n",
    "        elif activation == \"SoftMax\":\n",
    "            self.Output = self.Activation_Softmax(np.dot(inputs,self.weights) + self.bias)\n",
    "    \n",
    "    def Activation_ReLU(self,outputs):\n",
    "        return np.maximum(0,outputs)\n",
    "    \n",
    "    def Activation_SoftMax(self,outputs):\n",
    "        exp_values = np.exp(outputs)\n",
    "        return exp_values/np.sum(exp_values, axis=1, keepdims= True)\n",
    "\n",
    "class loss:\n",
    "    class mse:\n",
    "        def Calculate(y_actual, y_pred):\n",
    "            loss = 0\n",
    "            n = len(y_pred)\n",
    "            for i in y_pred:\n",
    "                loss += np.sqrt(y_actual[i] - y_pred[i])\n",
    "            return loss/n\n",
    "    class sse:\n",
    "        def Calculate(y_actual, y_pred):\n",
    "            loss = 0\n",
    "            n = len(y_pred)\n",
    "            for i in y_pred:\n",
    "                loss += np.sqrt(y_actual[i] - y_pred[i])\n",
    "            return loss"
   ]
  },
  {
   "cell_type": "code",
   "execution_count": 1,
   "metadata": {},
   "outputs": [],
   "source": [
    "import numpy as np\n",
    "\n",
    "X = [1,2,3,4]\n",
    "\n",
    "Layer1 = layer(4,5)\n",
    "Layer1.Forward(X, \"ReLU\")\n",
    "Layer1.Output"
   ]
  },
  {
   "cell_type": "code",
   "execution_count": null,
   "metadata": {},
   "outputs": [],
   "source": []
  }
 ],
 "metadata": {
  "interpreter": {
   "hash": "10eb833caea26c7a157ddd36b84424824dcf6bbe30467e354236f080ca43c2d5"
  },
  "kernelspec": {
   "display_name": "Python 3.9.9 64-bit (windows store)",
   "language": "python",
   "name": "python3"
  },
  "language_info": {
   "codemirror_mode": {
    "name": "ipython",
    "version": 3
   },
   "file_extension": ".py",
   "mimetype": "text/x-python",
   "name": "python",
   "nbconvert_exporter": "python",
   "pygments_lexer": "ipython3",
   "version": "3.9.9"
  },
  "orig_nbformat": 4
 },
 "nbformat": 4,
 "nbformat_minor": 2
}
