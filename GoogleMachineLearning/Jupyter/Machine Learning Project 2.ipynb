{
 "cells": [
  {
   "cell_type": "code",
   "execution_count": 18,
   "metadata": {},
   "outputs": [
    {
     "name": "stdout",
     "output_type": "stream",
     "text": [
      "[2]\n"
     ]
    }
   ],
   "source": [
    "from sklearn import tree\n",
    "\n",
    "features = [[140,1],[130,1],[150,0],[170,0],[450,1],[340,1]] #[[weight in grams,Bumpy(0) or Smooth(1)]]\n",
    "labels = [ 0, 0, 1, 1, 2, 2] #[Apples(0) or Oranges(1)]\n",
    "\n",
    "clf = tree.DecisionTreeClassifier() #defines what classifier method is used\n",
    "clf  = clf.fit(features, labels)#Trains/ finds patern usiing the features and their respective outputs\n",
    "print (clf.predict([[370, 1]]))#prints what the algorithm predicts (one of the labels) "
   ]
  }
 ],
 "metadata": {
  "interpreter": {
   "hash": "10eb833caea26c7a157ddd36b84424824dcf6bbe30467e354236f080ca43c2d5"
  },
  "kernelspec": {
   "display_name": "Python 3.9.8 64-bit (windows store)",
   "language": "python",
   "name": "python3"
  },
  "language_info": {
   "codemirror_mode": {
    "name": "ipython",
    "version": 3
   },
   "file_extension": ".py",
   "mimetype": "text/x-python",
   "name": "python",
   "nbconvert_exporter": "python",
   "pygments_lexer": "ipython3",
   "version": "3.9.9"
  },
  "orig_nbformat": 4
 },
 "nbformat": 4,
 "nbformat_minor": 2
}
