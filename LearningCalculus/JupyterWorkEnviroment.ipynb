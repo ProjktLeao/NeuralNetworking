{
 "cells": [
  {
   "cell_type": "code",
   "execution_count": 7,
   "metadata": {},
   "outputs": [
    {
     "name": "stdout",
     "output_type": "stream",
     "text": [
      "library name: Calculus Integration Calculator\n",
      " Made by: Arthur Leao De Souza \n",
      " Time made:12/3/2021(Dec) 9:06pm Sao Paulo time\n",
      "library function: testing and familiarization of the application of integration from calculus\n"
     ]
    }
   ],
   "source": [
    "\n",
    "\n",
    "#Steps of itteration\n",
    "\n",
    "#Pick a range for X\n",
    "#Pick a function\n",
    "#determine how many times the shape will be divided (itterations)\n",
    "#divide (range[1] - range[0]) by the number of itterations to get the linear rate of change of X\n",
    "#incrementaly add the linear rate of change of X to the lowest limit\n",
    "#do the same but decrease itterations by 1 and add the X's rate of change to the lower limit\n",
    "#get the mean(avarage) of the two values\n",
    "\n",
    "class function:\n",
    "    def __init__(self, func) -> None:\n",
    "        self.func = func\n",
    "    def calculate_area(self, limits, itterations):\n",
    "        if len(limits) == 2:\n",
    "            rate_of_change = (limits[1]-limits[0])/itterations\n",
    "            minimum_area = 0\n",
    "            maximum_area = 0\n",
    "            current_X = limits[0]\n",
    "            for i in range(itterations):\n",
    "                minimum_area += self.func(current_X) * rate_of_change #because Area = base*height and ROC is base\n",
    "                current_X += rate_of_change\n",
    "            current_X = limits[0] + rate_of_change\n",
    "            for j in range(itterations - 1):\n",
    "                maximum_area += self.func(current_X) * rate_of_change #because Area = base*height and ROC is base\n",
    "                current_X += rate_of_change\n",
    "            return (minimum_area + maximum_area)/2\n",
    "\n",
    "class example_functions:\n",
    "    def function_X_squared(X):\n",
    "        return X**2\n",
    "\n",
    "    def function_linear_standard(X): \n",
    "        return X\n",
    "\n",
    "class library_info:\n",
    "    def _help():\n",
    "        print(\n",
    "            \"Getting started:\\n\\n\",\n",
    "            \"   -make(or use the integrated ones located in 'example_functions') a new function with\",\n",
    "            \"'def' with an(singular) input parameter that returns a value(float/int).\"\n",
    "            \"let this equation be your mathematical function of your liking\\n\"\n",
    "            \"\\n\"\n",
    "            \"   -next, make a tuple((float,float)) or array ([float,float]) of size 2 with floats(or ints) inside them.\\n\"\n",
    "            \"let them be your range(A.K.A limits). To avoid issues, order your tuple's/array's value in acending order\\n\"\n",
    "            \"like so [smaller float/int, larger float/int]\\n\"\n",
    "            \"\\n\"\n",
    "            \"   -finnaly, assign the class 'function' to a variable and enter your mathematical function as a parameter.\\n\"\n",
    "            \"Then, in order to calculate, use the 'calculate_area' function inside your new variable containing the class of\\n\"\n",
    "            \"function. Next, add your tuple/array as your first parameter and the number of itterations(int) as your second.\\n\"\n",
    "             \"The 'itterations' parameter determines how many rectangles will be drawn inside your shape to determine area\\n\"\n",
    "            \"(ie. the higher itteration is the higher the accuracy and the higher the cost to process. absurdly low(<10-20)\\n\"\n",
    "            \" and absurdly high(per machine basis) values are discouraged because of acuracy and performance issues respectfully\\n\"\n",
    "            \"\\n\"\n",
    "            \"\\n\"\n",
    "            \"I hope my late night project has helped you in any way, shape, or form. This is not the fastest program of its kind but I \\n\"\n",
    "            \"believe i've optimized it great despite the fact ive been awake for roughly 17-18 hours. Enjoy! \"\n",
    "        )\n",
    "    def _misc_info():\n",
    "        print(\"library name: Calculus Integration Calculator\\n\",\n",
    "                \"Made by: Arthur Leao De Souza \\n\",\n",
    "                \"Time made:12/3/2021(Dec) 9:06pm Sao Paulo time\\n\"\n",
    "                \"library function: testing and familiarization of the application\",\n",
    "                \"of integration from calculus\")"
   ]
  },
  {
   "cell_type": "code",
   "execution_count": 18,
   "metadata": {},
   "outputs": [
    {
     "data": {
      "text/plain": [
       "41.66604166871113"
      ]
     },
     "execution_count": 18,
     "metadata": {},
     "output_type": "execute_result"
    }
   ],
   "source": [
    "from CalculusIntegrationCalculation import function\n",
    "from CalculusIntegrationCalculation import example_functions\n",
    "\n",
    "new_function = function(example_functions.function_X_squared)\n",
    "shape_range = (0,5)\n",
    "\n",
    "new_function.calculate_area(shape_range,10**5)"
   ]
  }
 ],
 "metadata": {
  "interpreter": {
   "hash": "13eb0af71620a846e484681143862ad0a4deab6cadfc353264e5c14897c11035"
  },
  "kernelspec": {
   "display_name": "Python 3.9.9 64-bit",
   "language": "python",
   "name": "python3"
  },
  "language_info": {
   "codemirror_mode": {
    "name": "ipython",
    "version": 3
   },
   "file_extension": ".py",
   "mimetype": "text/x-python",
   "name": "python",
   "nbconvert_exporter": "python",
   "pygments_lexer": "ipython3",
   "version": "3.9.9"
  },
  "orig_nbformat": 4
 },
 "nbformat": 4,
 "nbformat_minor": 2
}
